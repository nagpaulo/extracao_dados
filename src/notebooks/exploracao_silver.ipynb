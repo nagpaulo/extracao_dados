{
 "cells": [
  {
   "cell_type": "code",
   "execution_count": 10,
   "metadata": {},
   "outputs": [],
   "source": [
    "from pyspark.sql import SparkSession\n",
    "from pyspark.sql import functions as f"
   ]
  },
  {
   "cell_type": "code",
   "execution_count": 11,
   "metadata": {},
   "outputs": [],
   "source": [
    "spark = SparkSession.builder.appName(\"twitter_transformation\").getOrCreate()"
   ]
  },
  {
   "cell_type": "code",
   "execution_count": 12,
   "metadata": {},
   "outputs": [],
   "source": [
    "df_tweet = spark.read.json(\"../../datalake/silver/twitter_datascience/tweet\")"
   ]
  },
  {
   "cell_type": "code",
   "execution_count": 13,
   "metadata": {},
   "outputs": [
    {
     "name": "stdout",
     "output_type": "stream",
     "text": [
      "root\n",
      " |-- author_id: string (nullable = true)\n",
      " |-- conversation_id: string (nullable = true)\n",
      " |-- created_at: string (nullable = true)\n",
      " |-- id: string (nullable = true)\n",
      " |-- like_count: long (nullable = true)\n",
      " |-- quote_count: long (nullable = true)\n",
      " |-- reply_count: long (nullable = true)\n",
      " |-- retweet_count: long (nullable = true)\n",
      " |-- text: string (nullable = true)\n",
      " |-- process_date: date (nullable = true)\n",
      "\n"
     ]
    }
   ],
   "source": [
    "df_tweet.printSchema()"
   ]
  },
  {
   "cell_type": "code",
   "execution_count": 18,
   "metadata": {},
   "outputs": [],
   "source": [
    "tweet_conversas = df_tweet.alias(\"tweet\").groupBy(f.to_date(\"created_at\").alias(\"created_date\")).agg(\n",
    "    f.countDistinct(\"author_id\").alias(\"n_tweets\"),\n",
    "    f.sum(\"like_count\").alias(\"n_like\"),\n",
    "    f.sum(\"quote_count\").alias(\"n_quote\"),\n",
    "    f.sum(\"reply_count\").alias(\"n_replay\"),\n",
    "    f.sum(\"retweet_count\").alias(\"n_retweet\")\n",
    ").withColumn(\"weekday\", f.date_format(\"created_date\", \"E\"))"
   ]
  },
  {
   "cell_type": "code",
   "execution_count": 19,
   "metadata": {},
   "outputs": [
    {
     "name": "stdout",
     "output_type": "stream",
     "text": [
      "+------------+--------+------+-------+--------+---------+-------+\n",
      "|created_date|n_tweets|n_like|n_quote|n_replay|n_retweet|weekday|\n",
      "+------------+--------+------+-------+--------+---------+-------+\n",
      "|  2023-09-14|       9|  3744|   4536|    4851|     4104|    Thu|\n",
      "|  2023-09-19|      27|  6120|   6344|    7584|     5892|    Tue|\n",
      "|  2023-09-03|      20| 19887|  26334|   20811|    21210|    Sun|\n",
      "|  2023-08-28|      19| 23218|  22646|   25272|    20462|    Mon|\n",
      "|  2023-09-17|      17|  5538|   5166|    4632|     6288|    Sun|\n",
      "|  2023-09-12|      40| 27181|  25520|   25542|    27533|    Tue|\n",
      "|  2023-09-08|      10|  8025|   7935|   10980|     7635|    Fri|\n",
      "|  2023-09-01|       9| 12562|  11396|   11880|    11506|    Fri|\n",
      "|  2023-09-20|      19|  3980|   4268|    4008|     3612|    Wed|\n",
      "|  2023-09-10|      25| 23049|  20020|   17992|    16497|    Sun|\n",
      "|  2023-09-18|      18|  4970|   4470|    5550|     6490|    Mon|\n",
      "|  2023-09-21|      23|  4440|   4512|    4635|     3633|    Thu|\n",
      "|  2023-09-05|      10| 11520|   8442|    7362|    11322|    Tue|\n",
      "|  2023-09-15|      18| 10107|   8910|    9018|     8838|    Fri|\n",
      "|  2023-09-22|      10|   657|    615|     331|      576|    Fri|\n",
      "|  2023-08-25|      27| 41010|  51330|   46890|    50280|    Fri|\n",
      "|  2023-09-07|      36| 30864|  33008|   32688|    30096|    Thu|\n",
      "|  2023-08-27|      10| 12348|  10472|    9996|    13412|    Sun|\n",
      "|  2023-09-13|      10|  2930|   4120|    4380|     6360|    Wed|\n",
      "|  2023-08-24|      43| 95910|  89010|   91950|   106260|    Thu|\n",
      "+------------+--------+------+-------+--------+---------+-------+\n",
      "only showing top 20 rows\n",
      "\n"
     ]
    }
   ],
   "source": [
    "tweet_conversas.show()"
   ]
  }
 ],
 "metadata": {
  "kernelspec": {
   "display_name": "Python 3",
   "language": "python",
   "name": "python3"
  },
  "language_info": {
   "codemirror_mode": {
    "name": "ipython",
    "version": 3
   },
   "file_extension": ".py",
   "mimetype": "text/x-python",
   "name": "python",
   "nbconvert_exporter": "python",
   "pygments_lexer": "ipython3",
   "version": "3.10.12"
  },
  "orig_nbformat": 4
 },
 "nbformat": 4,
 "nbformat_minor": 2
}
